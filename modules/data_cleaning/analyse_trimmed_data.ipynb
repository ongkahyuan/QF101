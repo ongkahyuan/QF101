{
 "cells": [
  {
   "cell_type": "code",
   "execution_count": 114,
   "id": "3f198428",
   "metadata": {},
   "outputs": [],
   "source": [
    "import pandas as pd"
   ]
  },
  {
   "cell_type": "code",
   "execution_count": 115,
   "id": "0596eb0d",
   "metadata": {},
   "outputs": [
    {
     "name": "stderr",
     "output_type": "stream",
     "text": [
      "/var/folders/x5/kk64h6tj397cpb7qk5rt71740000gp/T/ipykernel_24821/3098607113.py:1: DtypeWarning: Columns (16,18,19,21,22,24) have mixed types. Specify dtype option on import or set low_memory=False.\n",
      "  df = pd.read_csv('../../trimmed.csv', parse_dates=[' [EXPIRE_DATE]',\" [QUOTE_DATE]\" ], index_col = 0)\n"
     ]
    }
   ],
   "source": [
    "\n",
    "df = pd.read_csv('../../trimmed.csv', parse_dates=[' [EXPIRE_DATE]',\" [QUOTE_DATE]\" ], index_col = 0)\n",
    "\n",
    "columns = df.columns\n",
    "columns = [s.replace('[', '') for s in columns]\n",
    "columns = [s.replace(']', '') for s in columns]\n",
    "columns = [s.replace(' ', '') for s in columns]\n",
    "\n",
    "df.columns = columns"
   ]
  },
  {
   "cell_type": "code",
   "execution_count": 116,
   "id": "2dcec57a",
   "metadata": {},
   "outputs": [
    {
     "name": "stdout",
     "output_type": "stream",
     "text": [
      "['QUOTE_UNIXTIME', 'QUOTE_READTIME', 'QUOTE_DATE', 'QUOTE_TIME_HOURS', 'UNDERLYING_LAST', 'EXPIRE_DATE', 'EXPIRE_UNIX', 'DTE', 'C_DELTA', 'C_GAMMA', 'C_VEGA', 'C_THETA', 'C_RHO', 'C_IV', 'C_VOLUME', 'C_LAST', 'C_SIZE', 'C_BID', 'C_ASK', 'STRIKE', 'P_BID', 'P_ASK', 'P_SIZE', 'P_LAST', 'P_DELTA', 'P_GAMMA', 'P_VEGA', 'P_THETA', 'P_RHO', 'P_IV', 'P_VOLUME', 'STRIKE_DISTANCE', 'STRIKE_DISTANCE_PCT']\n"
     ]
    },
    {
     "data": {
      "text/plain": [
       "['QUOTE_UNIXTIME',\n",
       " 'QUOTE_TIME_HOURS',\n",
       " 'UNDERLYING_LAST',\n",
       " 'EXPIRE_UNIX',\n",
       " 'DTE',\n",
       " 'C_DELTA',\n",
       " 'C_GAMMA',\n",
       " 'C_VEGA',\n",
       " 'C_THETA',\n",
       " 'C_RHO',\n",
       " 'C_IV',\n",
       " 'C_VOLUME',\n",
       " 'C_LAST',\n",
       " 'C_SIZE',\n",
       " 'C_BID',\n",
       " 'C_ASK',\n",
       " 'STRIKE',\n",
       " 'P_BID',\n",
       " 'P_ASK',\n",
       " 'P_SIZE',\n",
       " 'P_LAST',\n",
       " 'P_DELTA',\n",
       " 'P_GAMMA',\n",
       " 'P_VEGA',\n",
       " 'P_THETA',\n",
       " 'P_RHO',\n",
       " 'P_IV',\n",
       " 'P_VOLUME',\n",
       " 'STRIKE_DISTANCE',\n",
       " 'STRIKE_DISTANCE_PCT']"
      ]
     },
     "execution_count": 116,
     "metadata": {},
     "output_type": "execute_result"
    }
   ],
   "source": [
    "date_columns = ['QUOTE_READTIME','QUOTE_DATE','EXPIRE_DATE']\n",
    "numeric_cols = df.columns.to_list()\n",
    "print(numeric_cols)\n",
    "numeric_cols.remove('QUOTE_READTIME')\n",
    "numeric_cols.remove('QUOTE_DATE')\n",
    "numeric_cols.remove('EXPIRE_DATE')\n",
    "numeric_cols"
   ]
  },
  {
   "cell_type": "code",
   "execution_count": null,
   "id": "ce356bca",
   "metadata": {},
   "outputs": [],
   "source": [
    "numeric_df = df.drop(columns=date_columns)\n",
    "\n",
    "# convert all numeric columns to numbers\n",
    "for i in numeric_cols:\n",
    "    if numeric_df[i].dtype == str:\n",
    "        numeric_df[i] = numeric_df[i].str.strip()\n",
    "    numeric_df[i] = pd.to_numeric(numeric_df[i], errors='coerce')\n",
    "    \n",
    "numeric_df.info()"
   ]
  },
  {
   "cell_type": "code",
   "execution_count": null,
   "id": "5ec7daf5",
   "metadata": {},
   "outputs": [],
   "source": [
    "df = numeric_df.drop(columns=['C_SIZE','P_SIZE'])\n",
    "\n",
    "df.info()"
   ]
  },
  {
   "cell_type": "code",
   "execution_count": null,
   "id": "a950f5bf",
   "metadata": {},
   "outputs": [],
   "source": [
    "df.columns\n",
    "import numpy as np\n",
    "\n",
    "# remove same day expiry\n",
    "# df = df[df['EXPIRE_DATE'] != df['QUOTE_DATE']]\n",
    "\n",
    "hasPutVolume = df['P_VOLUME'] > 0\n",
    "hasCallVolume = df['C_VOLUME'] > 0\n",
    "\n",
    "hasVolume = df[hasPutVolume | noCallVolume ]\n",
    "\n",
    "hasVolume\n",
    "# hasVolume\n",
    "# print(len(df))\n",
    "# print(len(df[df[' [C_BID]'] != 0]))\n",
    "# print(len(df[df[' [P_BID]'] != 0]))\n",
    "\n",
    "# df[[' [P_BID]', ' [P_VOLUME]',' [C_BID]', ' [C_VOLUME]']]\n",
    "# df[[' [C_BID]',' [C_ASK]',' [C_SIZE]',' [C_VOLUME]']]"
   ]
  },
  {
   "cell_type": "code",
   "execution_count": null,
   "id": "b88667d3",
   "metadata": {},
   "outputs": [],
   "source": []
  }
 ],
 "metadata": {
  "kernelspec": {
   "display_name": "Python 3 (ipykernel)",
   "language": "python",
   "name": "python3"
  },
  "language_info": {
   "codemirror_mode": {
    "name": "ipython",
    "version": 3
   },
   "file_extension": ".py",
   "mimetype": "text/x-python",
   "name": "python",
   "nbconvert_exporter": "python",
   "pygments_lexer": "ipython3",
   "version": "3.9.13"
  }
 },
 "nbformat": 4,
 "nbformat_minor": 5
}
